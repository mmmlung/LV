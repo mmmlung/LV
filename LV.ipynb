{
 "cells": [
  {
   "cell_type": "markdown",
   "metadata": {},
   "source": [
    "## Technische Vorbereitung: Installation und Importe"
   ]
  },
  {
   "cell_type": "code",
   "execution_count": 17,
   "metadata": {},
   "outputs": [],
   "source": [
    "#!pip install money\n",
    "#! pip install pyliferisk\n",
    "#! pip install bokeh\n",
    "#! pip install plotly"
   ]
  },
  {
   "cell_type": "code",
   "execution_count": 40,
   "metadata": {
    "collapsed": true
   },
   "outputs": [],
   "source": [
    "#!pip install jupyter_contrib_nbextensions"
   ]
  },
  {
   "cell_type": "code",
   "execution_count": 28,
   "metadata": {
    "collapsed": true
   },
   "outputs": [],
   "source": [
    "import time, datetime\n",
    "from money import Money"
   ]
  },
  {
   "cell_type": "markdown",
   "metadata": {},
   "source": [
    "# Notebook Lebensversicherungsmathematik\n",
    "\n",
    "In diesem Notiz möchte ich Lebensversicherungsmathematik erlernen."
   ]
  },
  {
   "cell_type": "markdown",
   "metadata": {},
   "source": [
    "## Modellierung\n",
    "\n",
    "Zur grundlegenden Fragen und Kritik an der üblichen Modellierung der Lebensversicherungsmathematik möchte ich erst später kommen. Erstmal möchte ich die Modelle genau verstehen und effizient anwenden können."
   ]
  },
  {
   "cell_type": "markdown",
   "metadata": {},
   "source": [
    "## Rechnungsgrundlagen\n",
    "\n",
    "In diesem Abschnitt werden die nötigen Rechnungsgrundlagen für eine gemischte Lebensversicherung zusammengestellt. Die Rechnungsgrundlagen setzen sich aus Zins, Biometrie und Kosten zusammen."
   ]
  },
  {
   "cell_type": "markdown",
   "metadata": {},
   "source": [
    "### Zins"
   ]
  },
  {
   "cell_type": "code",
   "execution_count": 31,
   "metadata": {
    "collapsed": true
   },
   "outputs": [],
   "source": [
    "zins = 0.0175\n",
    "Zins = {\"Aufzinsfaktor\": zins, \"Diskontfaktor\" : 1/(1+zins)}"
   ]
  },
  {
   "cell_type": "markdown",
   "metadata": {},
   "source": [
    "### Biometrie"
   ]
  },
  {
   "cell_type": "code",
   "execution_count": 32,
   "metadata": {},
   "outputs": [],
   "source": [
    "#Hier Sterbetafel reinladen\n",
    "#Also CSV oder XML laden.\n",
    "#Hier zunächst Platzhalter\n",
    "Länge_Sterbetafel = 120\n",
    "q = [0]*Länge_Sterbetafel\n",
    "p = [1 - q[i] for i in range(Länge_Sterbetafel)]"
   ]
  },
  {
   "cell_type": "markdown",
   "metadata": {},
   "source": [
    "### Kosten"
   ]
  },
  {
   "cell_type": "code",
   "execution_count": 31,
   "metadata": {},
   "outputs": [],
   "source": [
    "Gamma = {\"Anwartschaft\": 0.0016, \"Rentenzeit\": 0.001}\n",
    "Beta = {\"Anwartschaft\": 0.002, \"Rentelaufzeit\":0.005}\n",
    "Alpha = 0.05\n",
    "Kosten = {\"laufende Verwaltungskosten Gamma\": Gamma, \"Inkassokosten Beta\": Beta, \"Abschlusskosten Alpha\": Alpha}\n",
    "#print(Kosten)"
   ]
  },
  {
   "cell_type": "markdown",
   "metadata": {},
   "source": [
    "## Hilfsgrößen\n",
    "Hier werden variablen definiert die erst später wichtig werden."
   ]
  },
  {
   "cell_type": "code",
   "execution_count": 52,
   "metadata": {},
   "outputs": [
    {
     "name": "stdout",
     "output_type": "stream",
     "text": [
      "10\n"
     ]
    }
   ],
   "source": [
    "Beitrag_jährlich = 1\n",
    "Laufzeit_Zeitrente = 10 #Zeit in Jahren\n",
    "Aufschubzeit = 29 #Zeit in Jahren\n",
    "\n",
    "Erlebte_Versicherungsjahre = 1\n",
    "Summe_Beiträge_bisTod =  Beitrag_jährlich* Erlebte_Versicherungsjahre\n",
    "Rente = {\"Zeitrente\": 1 , \"Leibrente\":1}\n",
    "Beitragsrückgewähr = {\"Beitragsrückgewähr\": Summe_Beiträge_bisTod}\n",
    "Erlebensfallleistung = Rente\n",
    "Todesfallleistung = Beitragsrückgewähr\n",
    "print(Laufzeit_Zeitrente)\n"
   ]
  },
  {
   "cell_type": "markdown",
   "metadata": {},
   "source": [
    "### Vertragsdaten"
   ]
  },
  {
   "cell_type": "code",
   "execution_count": 46,
   "metadata": {},
   "outputs": [
    {
     "name": "stdout",
     "output_type": "stream",
     "text": [
      "[{'Beitragsrückgewähr': 1}, {'Zeitrente': 1, 'Leibrente': 1}]\n"
     ]
    }
   ],
   "source": [
    "Versicherungsbegin = datetime.date(2013,9,1)#Jahr, Monat, Tag\n",
    "Versichertes_Risiko = \"Gemischte LV\"\n",
    "Versicherte_Person = {\"Name\": \"Max Mustermann\", \"Geschlecht\": \"M\", \"Geburtsdatum\": datetime.date(1975,6,16)}\n",
    "Versicherungsleistung = [Todesfallleistung, Erlebensfallleistung]\n",
    "Beitrag = {\"Höhe\":Money(amount=1, currency = 'EUR'), \"Zahlweise\": \"m\"}\n",
    "#print(Versicherungsleistung)"
   ]
  },
  {
   "cell_type": "markdown",
   "metadata": {},
   "source": [
    "## Kalkulation\n",
    "\n",
    "In diesem Abschnitt wird zu der im Abschnitt Modellierung beschriebenen Lebensversicherung zunächst aus vorgebener normierter Leistung der nötige Beitrag berechnet. Grundlage hierfür ist das versicherungsmathematischen Äquivalenzprinzp:\n",
    "\n",
    "$$Leistungsbarwert = Beitragsbarwert$$\n",
    "\n",
    "Mithilfe der Rechnungsgrundlagen(Zinsen, Biometrie und Kosten) und der Vorgabe von entweder Leistung oder Beitrag lässt sich die jeweils andere Größte (Beitrag oder Leistung) berechnen. Wir werden hier zunächst von einer normierten Leistung ausgehen (d.h. die jährliche Erlebnis- und Todesfallleistung sind jeweils 1)."
   ]
  },
  {
   "cell_type": "markdown",
   "metadata": {},
   "source": [
    "### Beitragskalkulation"
   ]
  },
  {
   "cell_type": "markdown",
   "metadata": {},
   "source": [
    "#### Leistungsbarwerte\n",
    "\n",
    "Leistung besteht aus Erlebenisfallleistung = Rente = (Zeitrente + Leibrente) und \n",
    "Todesfallleistung = Beitragsrückgewähr\n",
    " - (Renten)-Barwert(-faktor) Rente\n",
    " - Zeitrente\n",
    " - Zahlungen ist eine Liste. Jedes Element von Zahlungen ist eine Zahlung. Eine Zahlung ist ein Tupel:\n",
    " $$Zahlung=(Stichtag,vergangeneVersicherjahreSeitVersicherungsbeginn, Nominalwert)$$"
   ]
  },
  {
   "cell_type": "code",
   "execution_count": 55,
   "metadata": {},
   "outputs": [
    {
     "name": "stdout",
     "output_type": "stream",
     "text": [
      "[(datetime.date(2013, 9, 1), 0, 1), (datetime.date(2014, 9, 1), 1, 1), (datetime.date(2015, 9, 1), 2, 1), (datetime.date(2016, 9, 1), 3, 1), (datetime.date(2017, 9, 1), 4, 1), (datetime.date(2018, 9, 1), 5, 1), (datetime.date(2019, 9, 1), 6, 1), (datetime.date(2020, 9, 1), 7, 1), (datetime.date(2021, 9, 1), 8, 1), (datetime.date(2022, 9, 1), 9, 1)]\n"
     ]
    }
   ],
   "source": [
    "Zahlungen_Zeitrente = [(datetime.date(Versicherungsbegin.year + i,9,1),i,1) for i in range(Laufzeit_Zeitrente)]\n"
   ]
  },
  {
   "cell_type": "markdown",
   "metadata": {},
   "source": [
    "## Historische Höchstrechnungszinssätze"
   ]
  },
  {
   "cell_type": "code",
   "execution_count": 33,
   "metadata": {},
   "outputs": [
    {
     "name": "stdout",
     "output_type": "stream",
     "text": [
      "{'1903-1922': 0.035, '1923-1941': 0.04, '1942-1986': 3.5, '1987-1994': 0.035, '1994-2000': 0.04, '2000-2003': 0.0325, '2004-2006': 0.275, '2006-2011': 0.225, '2012-2014': 0.0175, '2015-2016': 0.0125, '2017': 0.009}\n"
     ]
    }
   ],
   "source": [
    "Historische_Höchstzinssätze = {\"1903-1922\": 0.035, \"1923-1941\": 0.04, \"1942-1986\":3.5, \"1987-1994\":0.035, \"1994-2000\":0.04, \"2000-2003\":0.0325,\"2004-2006\":0.275, \"2006-2011\":0.225,\"2012-2014\":0.0175,\"2015-2016\":0.0125, \"2017\":0.009}\n",
    "print(Historische_Höchstzinssätze)"
   ]
  },
  {
   "cell_type": "markdown",
   "metadata": {},
   "source": [
    "## Kommutationswerte"
   ]
  },
  {
   "cell_type": "markdown",
   "metadata": {},
   "source": [
    "Aus Sterbetafeln und Annahmen über die Verzinsung lassen sich die sogenannten Kommutationswerte ableiten. Sie sind vorallem historische bedeutsam, da man diese \"vorberechnet\" in Tabellen einmal erstellt und damit Bewertung und Analyse spezieller Lebensversicherungen mit geringem rechnerischen Aufwand betreiben konnte.\n",
    "\n",
    "Da Kommutationswerte in meiner persönlichen Praxis aktuell eine untergeordnete Rollen spielen, wird dieser Abschnitt vielleicht nie zuende geschrieben."
   ]
  },
  {
   "cell_type": "code",
   "execution_count": 7,
   "metadata": {},
   "outputs": [
    {
     "name": "stdout",
     "output_type": "stream",
     "text": [
      "1975\n"
     ]
    }
   ],
   "source": [
    "print(2013-38)"
   ]
  },
  {
   "cell_type": "markdown",
   "metadata": {},
   "source": [
    "# Erklärung von Begriffen und Prinzipien"
   ]
  },
  {
   "cell_type": "markdown",
   "metadata": {},
   "source": [
    "## Dauernde Erfüllbarkeit:\n",
    "Das Versicherungsunternehmen muss die Erfüllung der vertragliche festgelegten Leistungen gewährleisten. Dies insbesondere über lange Vertragsdauern."
   ]
  },
  {
   "cell_type": "markdown",
   "metadata": {},
   "source": [
    "## Kapitaldeckungsprinzip:\n",
    "Die Prämien müssen unter angemessenen, versicherungsmathematischen Annahmen so kalkuliert werden, dass das Versicherungsunternehmen all seinen Verpflichtungen nachkommen kann. Insbesondere soll die Bildung einzelvertragliche Deckungsrückstellung in ausreichender Höhe gebildet werden können."
   ]
  },
  {
   "cell_type": "markdown",
   "metadata": {},
   "source": [
    "## Gleichbehandlungsprinzip:\n",
    "Bei gleichen Vorraussetzung dürfen Leistungen und Beiträge nur nach denselben Grundsätzen bemessen werden."
   ]
  },
  {
   "cell_type": "markdown",
   "metadata": {},
   "source": [
    "## Versichertenkollektiv\n",
    "Eine Menge von versicherten Personen die bei einem Versicherungsunternehmen eine gleichartige Versicherung abgeschlossen haben und deren Leistungs- und Beitragsberechnung wegen des Gleichbehandlungsprinzips nach denselben Grundsätzen erfolgt, nennt man ein Versichertenkollektiv."
   ]
  },
  {
   "cell_type": "markdown",
   "metadata": {},
   "source": [
    "## Indirekte Versicherungsleistung: Neu-Aquise und Verwaltung\n",
    "Die Aquise neuer Verträge und Verwaltung der bestehenden Verträge kann als indirekte Leistung des Versicherungsunternehmen gegenüber dem Kollektiv verstanden werden. Neue Verträge und effiziente Verwaltung schafft Spielraum beim Risikoausgleich."
   ]
  },
  {
   "cell_type": "markdown",
   "metadata": {},
   "source": [
    "## Risikoausgleich\n",
    "Durch ein die Verbindung eines Versichertenkollektivs mit dem Versicherungsunternehmen entsteht ein Risikoausgleich durch\n",
    "- die anderen Versicherten des Kollektivs und deren Beiträge\n",
    "- durch den Ausgleich in der Zeit der verschiedenen Versicherungsdauern. In dieser Zeit können finanzielle Reserven aufgebaut werden"
   ]
  },
  {
   "cell_type": "markdown",
   "metadata": {},
   "source": [
    "## Kalkulationsprinzip\n",
    "Bei gegebener Leistung des Versicherungsunternehmen sind folgende Annahmen zu treffen:\n",
    "- Risikoeinschätzung\n",
    "- Rechungszins\n",
    "- Kostenzuschläge: Üblicherweise untergliedert nach Abschlusskosten, Verwaltungskosten und Inkassokosten.\n",
    "\n",
    "Diese Annahmen nennt man auch Rechungsgrundlagen. Man nennt auch Rechungsgrundlagen erster Ordnung, aus denen man zu gegebener Leistung die nötigen Beiträge berechnet."
   ]
  },
  {
   "cell_type": "markdown",
   "metadata": {},
   "source": [
    "## Versicherungsmathematisches Vorsichtsprinzip\n",
    "Wegen der langen Vertragslaufzeiten muss das Versicherungsunternehmen Unsicherheiten in der Kapitmalmarktentwicklung, der Risikoeinschätzung und der Organisationkosten berücksichtigen und diese dementsprechend vorsichtig bemessen. Dies soll die dauernde Erfüllbarkeit gewährleisten. Ist andererseits aber auch die Ursachen von Überschüssen."
   ]
  },
  {
   "cell_type": "markdown",
   "metadata": {},
   "source": [
    "## Rechnungsgrundlagen 2. Ordnung\n",
    "Im Gegensatz zu den Grundlagen 1. Ordnung, werden hier die Größten nicht vorsichtig, sondern möglichst realistisch prognostiziert. Sie werden häufig benutzt um Überschüsse zu schätzen. Sie sind damit ein Instrument zur Planung für das Versicherungsunternehmen und nicht direkt relevant für die vertragliche Festlegung von Beitrag zur Leistung.\n",
    "Rechungsgrundlagen 3. Ordnung sind die, meist erst aposteriori bekannten, tatsächlichen Ausprägungen der Größen aus den Rechungsgrundlagen niedriger Ordnung."
   ]
  },
  {
   "cell_type": "markdown",
   "metadata": {},
   "source": [
    "## Ausscheideordnung, Ausscheideursache und Sterbetafel\n",
    "Da der Eintritt des versicherten Risiko ungewiss ist, ist der Eintrittszeitpunkt eine stochastische Größe. Damit dennoch zu Ein- und Abschätzung von Zahlungsströmen im Umfeld des Kollektiv kommt kann, wird Anhand von Daten Wahrscheinlichkeitsaussagen über die versicherten Risiken gemacht. Derartige Information enthalten sog. Ausscheideordnungen, welche statistisch und häufig unabhängig vom Versicherungsunternehmen erhoben werden. Ist die einzige Ausscheideursache einer Ausscheideordnung der Tod, so nennt man diese Ausscheideordnung eine Sterbetafel."
   ]
  },
  {
   "cell_type": "markdown",
   "metadata": {},
   "source": [
    "## Kostenzuschläge\n",
    "Die Organisation der Versicherungsleistung verursacht dem Versicherungsunternehmen Kosten. Da man die Organisation als indirekte Leistung an das Versichertenkollektiv ansehen kann, werden diese Kosten dem Kollektiv in Form von einzelvertraglich festgelegten Kostenabschlägen verursachungsgerecht in Rechnung gestellt.\n",
    "### Abschlußkostenzuschläge($\\alpha$)\n",
    " - Äußere Abschlusskosten. Hierzu zählen: Vermittlungsprovisionen, Gehälter des angestellten Außendienst, Anteilige Kosten an Geschäftsstellen.\n",
    " \n",
    " - Innere Abschlusskosten. Hierzu zählen: Auftragsbearbeitung, Mitarbeiterschulung, Kosten fürs Marketing und anteilige Kosten an Produktneuentwicklungen\n",
    " \n",
    "Das Versicherungsunternehmen legt überlicherweise je Versicherungart ein Parameter $\\alpha$ fest, der mit der Bezugsgrößte (meist die Beitragssumme o.Ä.) multipliziert die einzelvertraglichen Abschlusskosten bilden.\n",
    "\n",
    "### Verwaltungskostenzuschläge($\\beta$, $\\gamma$)\n",
    "In dieser Kategorie finden sich sämtliche Kosten die dem Versicherungsunternehmen durch die Verwaltung der Verträge entstehen. Man unterscheidet (historisch):\n",
    "- Inkassokosten($\\beta$): Transaktionkosten beim Beitragseinzug.\n",
    "- laufenden Verwaltungskosten($\\gamma$): Bestandsführungskosten, Löhne und Gehälter der Mitarbeiter, Miete, Steuern, Kundenkorrespondenz, Aufwendung für Vertragsbeendigung oder Stornierung.\n",
    "\n",
    "Die Bezugsgrößten der $\\beta$- und $\\gamma$-Kosten sind überlicherweise entweder:\n",
    "- der Beitrag des Versicherungsnehmer\n",
    "oder\n",
    "- Versicherungsleistung des Versicherungsunternehmen (z. B. Rentenhöhe, Versicherungssumme).\n",
    "\n",
    "Es folgt ein kleine Visualisierung die zeigt wie die verschiedenen Kostenzuschläge mit Versicherungsdauer und Versicherungssume zusammenhängen: TADA"
   ]
  },
  {
   "cell_type": "code",
   "execution_count": null,
   "metadata": {
    "collapsed": true
   },
   "outputs": [],
   "source": [
    "# Summe Kosten über gesamt VD je Kostenart\n",
    "# abhängig von:\n",
    "# Zuschlägen, Versicherungssumme, Versicherungsdauer usw."
   ]
  },
  {
   "cell_type": "markdown",
   "metadata": {},
   "source": [
    "## Äquivalenzprinzipien\n",
    "Eine fundamentale Rolle bei der Bestimmung von Beitragen in der Lebensversicherung sind versicherungmathematischen Äquivalenzprinzipien. Diese Prinzipien legen fest in welcher Weise die Beiträge des Versicherungsnehmer und die Leistungen des Versicherungsunternehmen äquivalent sein müssen. Mit Hilfe der Äquivalenzprinzipien lassen sich Beitrag und Leistung gegenüberstellen und die Höhe des Einen aus der Höhe des Anderen bestimmen.\n",
    "\n",
    "### Starkes versicherungsmathematisches Äquivalenzprinzip\n",
    "Für jeden Versicherungsvertrag und jeden Zeitpunkt in der Laufzeit $t$ entspricht der Wert aller erwartungsgemäß zu leistenden Versicherungsbeiträge des Versicherungsnehmers dem Wert der erwartungsgemäß zu leistenden Versicherungsleistungen des Versicherungsunternehmen.\n",
    "\n",
    "### Schwaches versicherungsmathematisches Äquivalenzprinzip\n",
    "Für jeden Zeitpunkt $t$ enspricht die Summe der erwartungsgemäß zu leistenden Versicherungsbeiträge des Kollektivs der Summe Werte der erwartungsgemäß zu leistenden Versicherungsleistungen des Versicherungsunternehmen an das Versichertenkollektiv.\n",
    "\n",
    "Bitte diese Prinzip formelhaft modellieren."
   ]
  },
  {
   "cell_type": "markdown",
   "metadata": {},
   "source": [
    "## Bewertungsreserven und Sockelbeteilung\n",
    "\n",
    "Bewertungsreserven (auch stille Reserven) ist die Differenz zwischen Buchwert und Marktwert von Kapitalanlagen. Versicherungsnehmer haben das Recht an diesen beteiligt zu werden. Eine Form dieser Beteiligung ist die Sockelbeteiligung an der Bewertungsreserven. Diese ist beim Schlussüberschüss, d.h. zum Versicherungsende bzw. Rentenbeginn fällig. Eine Mindestbeteiligung an den Bewertungsreserven ist die Sockelbeteiligung. Diese wird üblicherweise jährlich vom Vorstand des zug. Versicherungsunternehmen deklariert(d.h festgelegt)."
   ]
  },
  {
   "cell_type": "markdown",
   "metadata": {},
   "source": [
    "## Sparbeitrag und Risikobeitrag\n",
    "\n",
    "Der vom VN zu zahlende Beitrag setzt sich u.A. aus Risiko- und Sparbeitrag zusammmen. \n",
    "Der Sparbeitrag ist der Teil des Beitrags der die Verbleibeleistung(z.B. Leibrente) finanziert und damit das Deckungskapital aufbaut.\n",
    "Der Risikobeitag ist der Teil des Beitrags der die jährliche Differenz zwischen vereinbarter Ausscheideleistung(z.B. Beitragsrückgewähr) und angesparten Reserven(Diese Differenz nennt man auch das Risikokapital) finanziert."
   ]
  },
  {
   "cell_type": "markdown",
   "metadata": {},
   "source": [
    "## Überschussbeteiligung, Schlussüberschuss, Deklaration und Geschäftsbericht\n",
    "noch bis morgen hinzufügen"
   ]
  },
  {
   "cell_type": "markdown",
   "metadata": {},
   "source": [
    "# Visualisierungen"
   ]
  },
  {
   "cell_type": "markdown",
   "metadata": {},
   "source": [
    "## Zu- und Abflüsse im Kapital eines Kollektivs(-Bestandsgruppe)"
   ]
  },
  {
   "cell_type": "code",
   "execution_count": 35,
   "metadata": {
    "collapsed": true
   },
   "outputs": [],
   "source": [
    "#tba siehe Skript Dortmund Seite 7"
   ]
  },
  {
   "cell_type": "markdown",
   "metadata": {},
   "source": [
    "# Offene Punkte und Ideen\n",
    "- Äquivalenzprinzipien mathematisch exakt modellieren\n",
    "- Kommutationswerte definieren und beschreiben.\n",
    "\n",
    "- Ableitung von Leistungsarten aus versicherten Risiko. Kleine Datenbank mit z.B. \"gemischte Versicherung\" = {Erlebenisfallleistung, Todesfallleistung}"
   ]
  }
 ],
 "metadata": {
  "kernelspec": {
   "display_name": "Python 3",
   "language": "python",
   "name": "python3"
  },
  "language_info": {
   "codemirror_mode": {
    "name": "ipython",
    "version": 3
   },
   "file_extension": ".py",
   "mimetype": "text/x-python",
   "name": "python",
   "nbconvert_exporter": "python",
   "pygments_lexer": "ipython3",
   "version": "3.6.3"
  }
 },
 "nbformat": 4,
 "nbformat_minor": 2
}
